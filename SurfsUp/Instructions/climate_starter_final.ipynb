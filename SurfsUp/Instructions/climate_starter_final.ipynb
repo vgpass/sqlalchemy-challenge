{
 "cells": [
  {
   "cell_type": "code",
   "execution_count": 1,
   "metadata": {},
   "outputs": [],
   "source": [
    "%matplotlib inline\n",
    "from matplotlib import style\n",
    "style.use('fivethirtyeight')\n",
    "import matplotlib.pyplot as plt"
   ]
  },
  {
   "cell_type": "code",
   "execution_count": 2,
   "metadata": {},
   "outputs": [],
   "source": [
    "import numpy as np\n",
    "import pandas as pd\n",
    "import datetime as dt"
   ]
  },
  {
   "cell_type": "markdown",
   "metadata": {},
   "source": [
    "# Reflect Tables into SQLAlchemy ORM"
   ]
  },
  {
   "cell_type": "code",
   "execution_count": 3,
   "metadata": {},
   "outputs": [],
   "source": [
    "# Python SQL toolkit and Object Relational Mapper\n",
    "import sqlalchemy\n",
    "from sqlalchemy.ext.automap import automap_base\n",
    "from sqlalchemy.orm import Session\n",
    "from sqlalchemy import create_engine, func"
   ]
  },
  {
   "cell_type": "code",
   "execution_count": 4,
   "metadata": {},
   "outputs": [],
   "source": [
    "# create engine to hawaii.sqlite\n",
    "engine = create_engine(\"sqlite:///Resources/hawaii.sqlite\")"
   ]
  },
  {
   "cell_type": "code",
   "execution_count": 5,
   "metadata": {},
   "outputs": [],
   "source": [
    "# reflect an existing database into a new model\n",
    "Base = automap_base()\n",
    "\n",
    "\n",
    "# reflect the tables\n",
    "Base.prepare(autoload_with=engine)\n"
   ]
  },
  {
   "cell_type": "code",
   "execution_count": 6,
   "metadata": {},
   "outputs": [
    {
     "data": {
      "text/plain": [
       "['measurement', 'station']"
      ]
     },
     "execution_count": 6,
     "metadata": {},
     "output_type": "execute_result"
    }
   ],
   "source": [
    "# View all of the classes that automap found\n",
    "Base.classes.keys()"
   ]
  },
  {
   "cell_type": "code",
   "execution_count": 7,
   "metadata": {},
   "outputs": [],
   "source": [
    "# Save references to each table\n",
    "Measure = Base.classes.measurement\n",
    "Station = Base.classes.station"
   ]
  },
  {
   "cell_type": "code",
   "execution_count": 8,
   "metadata": {},
   "outputs": [],
   "source": [
    "# Create our session (link) from Python to the DB\n",
    "session = Session(engine)"
   ]
  },
  {
   "cell_type": "markdown",
   "metadata": {},
   "source": [
    "# Exploratory Precipitation Analysis"
   ]
  },
  {
   "cell_type": "code",
   "execution_count": 9,
   "metadata": {},
   "outputs": [
    {
     "data": {
      "text/plain": [
       "{'_sa_instance_state': <sqlalchemy.orm.state.InstanceState at 0x1b63dafc790>,\n",
       " 'tobs': 65.0,\n",
       " 'date': '2010-01-01',\n",
       " 'id': 1,\n",
       " 'prcp': 0.08,\n",
       " 'station': 'USC00519397'}"
      ]
     },
     "execution_count": 9,
     "metadata": {},
     "output_type": "execute_result"
    }
   ],
   "source": [
    "first_row = session.query(Measure).first()\n",
    "first_row.__dict__"
   ]
  },
  {
   "cell_type": "code",
   "execution_count": 10,
   "metadata": {},
   "outputs": [
    {
     "name": "stdout",
     "output_type": "stream",
     "text": [
      "('USC00519397', '2010-01-01')\n",
      "('USC00519397', '2010-01-02')\n",
      "('USC00519397', '2010-01-03')\n",
      "('USC00519397', '2010-01-04')\n",
      "('USC00519397', '2010-01-06')\n",
      "('USC00519397', '2010-01-07')\n",
      "('USC00519397', '2010-01-08')\n",
      "('USC00519397', '2010-01-09')\n",
      "('USC00519397', '2010-01-10')\n",
      "('USC00519397', '2010-01-11')\n",
      "('USC00519397', '2010-01-12')\n",
      "('USC00519397', '2010-01-14')\n",
      "('USC00519397', '2010-01-15')\n",
      "('USC00519397', '2010-01-16')\n",
      "('USC00519397', '2010-01-17')\n"
     ]
    }
   ],
   "source": [
    "for row in session.query(Measure.station, Measure.date).limit(15).all():\n",
    "    print(row)\n"
   ]
  },
  {
   "cell_type": "code",
   "execution_count": 11,
   "metadata": {},
   "outputs": [
    {
     "data": {
      "text/plain": [
       "{'_sa_instance_state': <sqlalchemy.orm.state.InstanceState at 0x1b6410e1dc0>,\n",
       " 'latitude': 21.2716,\n",
       " 'id': 1,\n",
       " 'elevation': 3.0,\n",
       " 'station': 'USC00519397',\n",
       " 'name': 'WAIKIKI 717.2, HI US',\n",
       " 'longitude': -157.8168}"
      ]
     },
     "execution_count": 11,
     "metadata": {},
     "output_type": "execute_result"
    }
   ],
   "source": [
    "first_row = session.query(Station).first()\n",
    "first_row.__dict__"
   ]
  },
  {
   "cell_type": "code",
   "execution_count": 12,
   "metadata": {},
   "outputs": [
    {
     "data": {
      "text/plain": [
       "('2017-08-23',)"
      ]
     },
     "execution_count": 12,
     "metadata": {},
     "output_type": "execute_result"
    }
   ],
   "source": [
    "# Find the most recent date in the data set.\n",
    "most_recent_date = session.query(Measure.date).order_by(Measure.date.desc()).first()\n",
    "most_recent_date"
   ]
  },
  {
   "cell_type": "code",
   "execution_count": 13,
   "metadata": {},
   "outputs": [
    {
     "name": "stdout",
     "output_type": "stream",
     "text": [
      "Query Date:  2016-08-23\n"
     ]
    }
   ],
   "source": [
    "query_date = dt.date(2017, 8, 23) - dt.timedelta(days=365)\n",
    "print(\"Query Date: \", query_date)"
   ]
  },
  {
   "cell_type": "code",
   "execution_count": 14,
   "metadata": {},
   "outputs": [
    {
     "data": {
      "text/plain": [
       "datetime.date(2017, 8, 23)"
      ]
     },
     "execution_count": 14,
     "metadata": {},
     "output_type": "execute_result"
    }
   ],
   "source": [
    "current = dt.date(2017, 8, 23)\n",
    "current"
   ]
  },
  {
   "cell_type": "code",
   "execution_count": 43,
   "metadata": {},
   "outputs": [
    {
     "name": "stdout",
     "output_type": "stream",
     "text": [
      "2016-08-23\n"
     ]
    },
    {
     "data": {
      "text/html": [
       "<div>\n",
       "<style scoped>\n",
       "    .dataframe tbody tr th:only-of-type {\n",
       "        vertical-align: middle;\n",
       "    }\n",
       "\n",
       "    .dataframe tbody tr th {\n",
       "        vertical-align: top;\n",
       "    }\n",
       "\n",
       "    .dataframe thead th {\n",
       "        text-align: right;\n",
       "    }\n",
       "</style>\n",
       "<table border=\"1\" class=\"dataframe\">\n",
       "  <thead>\n",
       "    <tr style=\"text-align: right;\">\n",
       "      <th></th>\n",
       "      <th>date</th>\n",
       "      <th>prcp</th>\n",
       "    </tr>\n",
       "  </thead>\n",
       "  <tbody>\n",
       "    <tr>\n",
       "      <th>0</th>\n",
       "      <td>2016-08-23</td>\n",
       "      <td>0.00</td>\n",
       "    </tr>\n",
       "    <tr>\n",
       "      <th>1</th>\n",
       "      <td>2016-08-23</td>\n",
       "      <td>0.15</td>\n",
       "    </tr>\n",
       "    <tr>\n",
       "      <th>2</th>\n",
       "      <td>2016-08-23</td>\n",
       "      <td>0.05</td>\n",
       "    </tr>\n",
       "    <tr>\n",
       "      <th>4</th>\n",
       "      <td>2016-08-23</td>\n",
       "      <td>0.02</td>\n",
       "    </tr>\n",
       "    <tr>\n",
       "      <th>5</th>\n",
       "      <td>2016-08-23</td>\n",
       "      <td>1.79</td>\n",
       "    </tr>\n",
       "    <tr>\n",
       "      <th>...</th>\n",
       "      <td>...</td>\n",
       "      <td>...</td>\n",
       "    </tr>\n",
       "    <tr>\n",
       "      <th>2225</th>\n",
       "      <td>2017-08-22</td>\n",
       "      <td>0.50</td>\n",
       "    </tr>\n",
       "    <tr>\n",
       "      <th>2226</th>\n",
       "      <td>2017-08-23</td>\n",
       "      <td>0.00</td>\n",
       "    </tr>\n",
       "    <tr>\n",
       "      <th>2227</th>\n",
       "      <td>2017-08-23</td>\n",
       "      <td>0.00</td>\n",
       "    </tr>\n",
       "    <tr>\n",
       "      <th>2228</th>\n",
       "      <td>2017-08-23</td>\n",
       "      <td>0.08</td>\n",
       "    </tr>\n",
       "    <tr>\n",
       "      <th>2229</th>\n",
       "      <td>2017-08-23</td>\n",
       "      <td>0.45</td>\n",
       "    </tr>\n",
       "  </tbody>\n",
       "</table>\n",
       "<p>2021 rows × 2 columns</p>\n",
       "</div>"
      ],
      "text/plain": [
       "            date  prcp\n",
       "0     2016-08-23  0.00\n",
       "1     2016-08-23  0.15\n",
       "2     2016-08-23  0.05\n",
       "4     2016-08-23  0.02\n",
       "5     2016-08-23  1.79\n",
       "...          ...   ...\n",
       "2225  2017-08-22  0.50\n",
       "2226  2017-08-23  0.00\n",
       "2227  2017-08-23  0.00\n",
       "2228  2017-08-23  0.08\n",
       "2229  2017-08-23  0.45\n",
       "\n",
       "[2021 rows x 2 columns]"
      ]
     },
     "execution_count": 43,
     "metadata": {},
     "output_type": "execute_result"
    }
   ],
   "source": [
    "# Design a query to retrieve the last 12 months of precipitation data and plot the results. \n",
    "# Starting from the most recent data point in the database. \n",
    "\n",
    "# Calculate the date one year from the last date in data set.\n",
    "\n",
    "current = dt.date(2017, 8, 23)\n",
    "current\n",
    "year_ago = current - dt.timedelta(days=365)\n",
    "print(year_ago)\n",
    "\n",
    "# Perform a query to retrieve the data and precipitation scores\n",
    "\n",
    "last_year_prcp = session.query(Measure.date, Measure.prcp).\\\n",
    "    filter(Measure.date >= year_ago).\\\n",
    "    filter(Measure.date <= current).\\\n",
    "    order_by(Measure.date).all()\n",
    "\n",
    "# Save the query results as a Pandas DataFrame and set the index to the date column\n",
    "\n",
    "rain_df = pd.DataFrame(last_year_prcp)\n",
    "clean_rain_df = rain_df.dropna(how='any')\n",
    "clean_rain_df\n"
   ]
  },
  {
   "cell_type": "code",
   "execution_count": 44,
   "metadata": {},
   "outputs": [
    {
     "data": {
      "image/png": "[encoded data removed]",
      "text/plain": [
       "<Figure size 640x480 with 1 Axes>"
      ]
     },
     "metadata": {},
     "output_type": "display_data"
    }
   ],
   "source": [
    "clean_rain_df.plot('date', 'prcp')\n",
    "font = {'weight': 'bold', 'size': '10'}\n",
    "# plt.figure(figsize=(8,7))\n",
    "plt.style.use('fivethirtyeight')\n",
    "plt.xlabel(\"Date\")\n",
    "plt.ylabel(\"Inches\")\n",
    "plt.title(f'Precipitation {year_ago} to {current}')\n",
    "plt.legend([\"Precipitation\"],loc='best')\n",
    "plt.xticks(rotation=\"vertical\")\n",
    "# plt.tight_layout()\n",
    "# plt.savefig(\"./precipitation_by_dates.png\")\n",
    "plt.show()"
   ]
  },
  {
   "cell_type": "code",
   "execution_count": 17,
   "metadata": {},
   "outputs": [
    {
     "data": {
      "text/html": [
       "<div>\n",
       "<style scoped>\n",
       "    .dataframe tbody tr th:only-of-type {\n",
       "        vertical-align: middle;\n",
       "    }\n",
       "\n",
       "    .dataframe tbody tr th {\n",
       "        vertical-align: top;\n",
       "    }\n",
       "\n",
       "    .dataframe thead th {\n",
       "        text-align: right;\n",
       "    }\n",
       "</style>\n",
       "<table border=\"1\" class=\"dataframe\">\n",
       "  <thead>\n",
       "    <tr style=\"text-align: right;\">\n",
       "      <th></th>\n",
       "      <th>prcp</th>\n",
       "    </tr>\n",
       "  </thead>\n",
       "  <tbody>\n",
       "    <tr>\n",
       "      <th>count</th>\n",
       "      <td>2021.000000</td>\n",
       "    </tr>\n",
       "    <tr>\n",
       "      <th>mean</th>\n",
       "      <td>0.177279</td>\n",
       "    </tr>\n",
       "    <tr>\n",
       "      <th>std</th>\n",
       "      <td>0.461190</td>\n",
       "    </tr>\n",
       "    <tr>\n",
       "      <th>min</th>\n",
       "      <td>0.000000</td>\n",
       "    </tr>\n",
       "    <tr>\n",
       "      <th>25%</th>\n",
       "      <td>0.000000</td>\n",
       "    </tr>\n",
       "    <tr>\n",
       "      <th>50%</th>\n",
       "      <td>0.020000</td>\n",
       "    </tr>\n",
       "    <tr>\n",
       "      <th>75%</th>\n",
       "      <td>0.130000</td>\n",
       "    </tr>\n",
       "    <tr>\n",
       "      <th>max</th>\n",
       "      <td>6.700000</td>\n",
       "    </tr>\n",
       "  </tbody>\n",
       "</table>\n",
       "</div>"
      ],
      "text/plain": [
       "              prcp\n",
       "count  2021.000000\n",
       "mean      0.177279\n",
       "std       0.461190\n",
       "min       0.000000\n",
       "25%       0.000000\n",
       "50%       0.020000\n",
       "75%       0.130000\n",
       "max       6.700000"
      ]
     },
     "execution_count": 17,
     "metadata": {},
     "output_type": "execute_result"
    }
   ],
   "source": [
    "# Use Pandas to calculate the summary statistics for the precipitation data\n",
    "clean_rain_df.describe()"
   ]
  },
  {
   "cell_type": "markdown",
   "metadata": {},
   "source": [
    "# Exploratory Station Analysis"
   ]
  },
  {
   "cell_type": "code",
   "execution_count": 18,
   "metadata": {},
   "outputs": [
    {
     "data": {
      "text/plain": [
       "9"
      ]
     },
     "execution_count": 18,
     "metadata": {},
     "output_type": "execute_result"
    }
   ],
   "source": [
    "# Design a query to calculate the total number stations in the dataset\n",
    "station_number = session.query(Station.station).count()\n",
    "station_number\n",
    "  "
   ]
  },
  {
   "cell_type": "code",
   "execution_count": 19,
   "metadata": {},
   "outputs": [
    {
     "name": "stdout",
     "output_type": "stream",
     "text": [
      "(16939, 'MANOA LYON ARBO 785.2, HI US', 'USC00516128')\n",
      "(14960, 'HONOLULU OBSERVATORY 702.2, HI US', 'USC00511918')\n",
      "(12188, 'WAIHEE 837.5, HI US', 'USC00519281')\n",
      "(9519, 'WAIMANALO EXPERIMENTAL FARM, HI US', 'USC00519523')\n",
      "(9008, 'UPPER WAHIAWA 874.3, HI US', 'USC00518838')\n",
      "(7636, 'PEARL CITY, HI US', 'USC00517948')\n",
      "(5434, 'KUALOA RANCH HEADQUARTERS 886.9, HI US', 'USC00514830')\n",
      "(2725, 'KANEOHE 838.1, HI US', 'USC00513117')\n",
      "(1, 'WAIKIKI 717.2, HI US', 'USC00519397')\n"
     ]
    }
   ],
   "source": [
    "# Design a query to find the most active stations (i.e. what stations have the most rows?)\n",
    "# List the stations and the counts in descending order.\n",
    "\n",
    "station_activity = session.query(Measure.id, Station.name, Measure.station).\\\n",
    "    filter(Measure.station == Station.station).\\\n",
    "    group_by(Measure.station).\\\n",
    "    order_by(Measure.id.desc()).all()\n",
    "   \n",
    "for x in station_activity:\n",
    "    print(x)"
   ]
  },
  {
   "cell_type": "code",
   "execution_count": 20,
   "metadata": {},
   "outputs": [
    {
     "data": {
      "text/plain": [
       "[('MANOA LYON ARBO 785.2, HI US', 0.0, 8.06, 70.92)]"
      ]
     },
     "execution_count": 20,
     "metadata": {},
     "output_type": "execute_result"
    }
   ],
   "source": [
    "# Using the most active station id from the previous query, calculate the lowest, highest, and average temperature.\n",
    "\n",
    "most_active_station = session.query(Station.name, func.min(Measure.prcp)\\\n",
    "    , func.max(Measure.prcp)\\\n",
    "    , func.round(func.avg(Measure.tobs),2)).\\\n",
    "    filter(Measure.station == Station.station).\\\n",
    "    filter(Measure.station == 'USC00516128').all()\n",
    "\n",
    "most_active_station"
   ]
  },
  {
   "cell_type": "code",
   "execution_count": 42,
   "metadata": {},
   "outputs": [
    {
     "data": {
      "image/png": "[encoded data removed]",
      "text/plain": [
       "<Figure size 640x480 with 1 Axes>"
      ]
     },
     "metadata": {},
     "output_type": "display_data"
    },
    {
     "name": "stdout",
     "output_type": "stream",
     "text": [
      "NormaltestResult(statistic=31.927570991796628, pvalue=1.1668527359411976e-07)\n",
      "NormaltestResult(statistic=288.229963769274, pvalue=2.5802311139911115e-63)\n"
     ]
    }
   ],
   "source": [
    "# Using the most active station id\n",
    "# Query the last 12 months of temperature observation data for this station and plot the results as a histogram\n",
    "\n",
    "most_active_station_temp = session.query(Station.name, Measure.date, Measure.prcp).\\\n",
    "    filter(Measure.station == Station.station).\\\n",
    "    filter(Measure.station == 'USC00516128').\\\n",
    "    filter(Measure.date >= year_ago).\\\n",
    "    filter(Measure.date <= current).\\\n",
    "    filter(Measure.prcp != 'None').\\\n",
    "    order_by(Measure.date).all()\n",
    "\n",
    "# Save query results to a dataframe\n",
    "\n",
    "df = pd.DataFrame(most_active_station_temp)\n",
    "\n",
    "# Plot results as a histogram\n",
    "\n",
    "import scipy.stats as st\n",
    "plt.hist(df['prcp'])\n",
    "plt.style.use('fivethirtyeight')\n",
    "plt.title('Days with Precipitation - One Year', pad=20)\n",
    "plt.xlabel('Precipitation (inches)', labelpad=8)\n",
    "plt.ylabel('# of Days', labelpad=12)\n",
    "plt.show()\n",
    "print(st.normaltest(df['prcp'].sample(50)))\n",
    "print(st.normaltest(df['prcp'].sample(300)))\n",
    "\n"
   ]
  },
  {
   "cell_type": "markdown",
   "metadata": {},
   "source": [
    "# Close session"
   ]
  },
  {
   "cell_type": "code",
   "execution_count": 41,
   "metadata": {},
   "outputs": [],
   "source": [
    "# Close Session\n",
    "session.close()"
   ]
  },
  {
   "cell_type": "code",
   "execution_count": null,
   "metadata": {},
   "outputs": [],
   "source": []
  }
 ],
 "metadata": {
  "anaconda-cloud": {},
  "kernel_info": {
   "name": "python3"
  },
  "kernelspec": {
   "display_name": "base",
   "language": "python",
   "name": "python3"
  },
  "language_info": {
   "codemirror_mode": {
    "name": "ipython",
    "version": 3
   },
   "file_extension": ".py",
   "mimetype": "text/x-python",
   "name": "python",
   "nbconvert_exporter": "python",
   "pygments_lexer": "ipython3",
   "version": "3.9.13 (main, Aug 25 2022, 23:51:50) [MSC v.1916 64 bit (AMD64)]"
  },
  "nteract": {
   "version": "0.12.3"
  },
  "varInspector": {
   "cols": {
    "lenName": 16,
    "lenType": 16,
    "lenVar": 40
   },
   "kernels_config": {
    "python": {
     "delete_cmd_postfix": "",
     "delete_cmd_prefix": "del ",
     "library": "var_list.py",
     "varRefreshCmd": "print(var_dic_list())"
    },
    "r": {
     "delete_cmd_postfix": ") ",
     "delete_cmd_prefix": "rm(",
     "library": "var_list.r",
     "varRefreshCmd": "cat(var_dic_list()) "
    }
   },
   "types_to_exclude": [
    "module",
    "function",
    "builtin_function_or_method",
    "instance",
    "_Feature"
   ],
   "window_display": false
  },
  "vscode": {
   "interpreter": {
    "hash": "a8e3450c47fd7c5f1546fa3e8cab157712ae6f8227aeba23951f00f267c4172b"
   }
  }
 },
 "nbformat": 4,
 "nbformat_minor": 2
}
